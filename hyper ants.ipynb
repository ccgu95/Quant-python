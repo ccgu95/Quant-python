{
 "cells": [
  {
   "cell_type": "markdown",
   "metadata": {},
   "source": [
    "# Hyper-ants:ants traveling in hyperspace\n",
    "An ant is at the origin in n-dimensional Euclidean space, and is about to traverse the edges of a hypercube with sides of unit length. At each vertex, the ant randomly chooses an edge, and moves to the next vertex. On average, how far will the ant travel until it reaches (1,1,...,1)?"
   ]
  },
  {
   "cell_type": "code",
   "execution_count": 32,
   "metadata": {},
   "outputs": [
    {
     "data": {
      "text/plain": [
       "{3: 24,\n",
       " 5: 20,\n",
       " 7: 13,\n",
       " 9: 4,\n",
       " 11: 5,\n",
       " 13: 7,\n",
       " 15: 4,\n",
       " 17: 9,\n",
       " 19: 1,\n",
       " 23: 3,\n",
       " 25: 4,\n",
       " 27: 1,\n",
       " 29: 1,\n",
       " 31: 1,\n",
       " 33: 1,\n",
       " 37: 1,\n",
       " 63: 1}"
      ]
     },
     "execution_count": 32,
     "metadata": {},
     "output_type": "execute_result"
    }
   ],
   "source": [
    "from random import randint\n",
    "def sumWorkaround(vertex):\n",
    "    sum_ = 0\n",
    "    for coordinate in vertex:\n",
    "        sum_+= coordinate\n",
    "    return sum_\n",
    "\n",
    "dimension = 3\n",
    "def number_of_moves(dimension):\n",
    "    #return the number of moves needed for \n",
    "    #one simulated trip by the ant\n",
    "    move_count=0\n",
    "    vertex=[0]*dimension\n",
    "    while sum(vertex)<dimension:\n",
    "        axis_choice = randint(0,dimension - 1)\n",
    "        vertex[axis_choice] = 1- vertex[axis_choice]\n",
    "        move_count += 1\n",
    "    return move_count\n",
    "\n",
    "number_of_trials = 100\n",
    "trials=[number_of_moves(3) for i in range(number_of_trials)]\n",
    "number_moves_count = {trial:0 for trial in trials}\n",
    "#for i in range(number_of_trials)\n",
    "for trial in trials:\n",
    "    number_moves_count[trial] += 1\n",
    "number_moves_count"
   ]
  }
 ],
 "metadata": {
  "kernelspec": {
   "display_name": "Python 3",
   "language": "python",
   "name": "python3"
  },
  "language_info": {
   "codemirror_mode": {
    "name": "ipython",
    "version": 3
   },
   "file_extension": ".py",
   "mimetype": "text/x-python",
   "name": "python",
   "nbconvert_exporter": "python",
   "pygments_lexer": "ipython3",
   "version": "3.6.1"
  }
 },
 "nbformat": 4,
 "nbformat_minor": 2
}
